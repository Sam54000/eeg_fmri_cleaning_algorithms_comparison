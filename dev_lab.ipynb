{
 "cells": [
  {
   "cell_type": "code",
   "execution_count": 1,
   "metadata": {},
   "outputs": [],
   "source": [
    "import mne\n",
    "import numpy as np\n",
    "import os\n",
    "from pathlib import Path\n",
    "from EEG_quality_assessment.signal_metrics import SignalMetrics\n",
    "import asrpy\n",
    "import pyprep\n",
    "import shutil\n",
    "\n",
    "from eeg_fmri_cleaning.utils import read_raw_eeg\n",
    "from eeg_fmri_cleaning.main import (\n",
    "    clean_gradient,\n",
    "    clean_bcg\n",
    ")\n",
    "import bids\n",
    "from bids.layout import BIDSLayout"
   ]
  },
  {
   "cell_type": "code",
   "execution_count": 10,
   "metadata": {},
   "outputs": [],
   "source": [
    "data_path = '/projects/EEG_FMRI/bids_eeg/BIDS/NEW/RAW'\n",
    "layout = BIDSLayout(data_path)"
   ]
  },
  {
   "cell_type": "code",
   "execution_count": 16,
   "metadata": {},
   "outputs": [
    {
     "data": {
      "text/plain": [
       "'sub-01_ses-01_task-checker_run-01_eeg.json'"
      ]
     },
     "execution_count": 16,
     "metadata": {},
     "output_type": "execute_result"
    }
   ],
   "source": [
    "layout.get()[5].filename"
   ]
  },
  {
   "cell_type": "code",
   "execution_count": 38,
   "metadata": {},
   "outputs": [],
   "source": [
    "l = list(layout.get_files())"
   ]
  },
  {
   "cell_type": "code",
   "execution_count": 1,
   "metadata": {},
   "outputs": [
    {
     "name": "stdout",
     "output_type": "stream",
     "text": [
      "a\n",
      "b\n"
     ]
    }
   ],
   "source": [
    "a = {'a':1, 'b':2}\n",
    "for i in a:\n",
    "    print(i)"
   ]
  },
  {
   "cell_type": "code",
   "execution_count": 30,
   "metadata": {},
   "outputs": [
    {
     "data": {
      "text/plain": [
       "('/projects/EEG_FMRI/bids_eeg/BIDS/NEW/RAW/sub-01/ses-01/eeg/sub-01_ses-01_task-rest_eeg',\n",
       " '.fif')"
      ]
     },
     "execution_count": 30,
     "metadata": {},
     "output_type": "execute_result"
    }
   ],
   "source": [
    "from pathlib import Path\n",
    "import os\n",
    "filename = Path('/projects/EEG_FMRI/bids_eeg/BIDS/NEW/RAW/sub-01/ses-01/eeg/sub-01_ses-01_task-rest_eeg.fif')\n",
    "os.path.splitext(filename)"
   ]
  },
  {
   "cell_type": "code",
   "execution_count": 25,
   "metadata": {},
   "outputs": [
    {
     "ename": "TypeError",
     "evalue": "'str' object is not callable",
     "output_type": "error",
     "traceback": [
      "\u001b[0;31m---------------------------------------------------------------------------\u001b[0m",
      "\u001b[0;31mTypeError\u001b[0m                                 Traceback (most recent call last)",
      "Cell \u001b[0;32mIn[25], line 2\u001b[0m\n\u001b[1;32m      1\u001b[0m \u001b[38;5;28;01mimport\u001b[39;00m \u001b[38;5;21;01mos\u001b[39;00m\n\u001b[0;32m----> 2\u001b[0m \u001b[43mos\u001b[49m\u001b[38;5;241;43m.\u001b[39;49m\u001b[43mextsep\u001b[49m\u001b[43m(\u001b[49m\u001b[43mos\u001b[49m\u001b[38;5;241;43m.\u001b[39;49m\u001b[43mpath\u001b[49m\u001b[38;5;241;43m.\u001b[39;49m\u001b[43mbasename\u001b[49m\u001b[43m(\u001b[49m\u001b[43mfilename\u001b[49m\u001b[43m)\u001b[49m\u001b[43m)\u001b[49m\n",
      "\u001b[0;31mTypeError\u001b[0m: 'str' object is not callable"
     ]
    }
   ],
   "source": []
  },
  {
   "cell_type": "code",
   "execution_count": 33,
   "metadata": {},
   "outputs": [
    {
     "data": {
      "text/plain": [
       "{}"
      ]
     },
     "execution_count": 33,
     "metadata": {},
     "output_type": "execute_result"
    }
   ],
   "source": [
    "layout.get_entities"
   ]
  },
  {
   "cell_type": "code",
   "execution_count": 24,
   "metadata": {},
   "outputs": [],
   "source": [
    "filename_base, filename_extension = os.path.splitext(l[3])"
   ]
  },
  {
   "cell_type": "code",
   "execution_count": 25,
   "metadata": {},
   "outputs": [
    {
     "data": {
      "text/plain": [
       "True"
      ]
     },
     "execution_count": 25,
     "metadata": {},
     "output_type": "execute_result"
    }
   ],
   "source": [
    "os.path.isfile(filename_base + '.json')"
   ]
  },
  {
   "cell_type": "code",
   "execution_count": 5,
   "metadata": {},
   "outputs": [
    {
     "data": {
      "text/plain": [
       "['standard_1005',\n",
       " 'standard_1020',\n",
       " 'standard_alphabetic',\n",
       " 'standard_postfixed',\n",
       " 'standard_prefixed',\n",
       " 'standard_primed',\n",
       " 'biosemi16',\n",
       " 'biosemi32',\n",
       " 'biosemi64',\n",
       " 'biosemi128',\n",
       " 'biosemi160',\n",
       " 'biosemi256',\n",
       " 'easycap-M1',\n",
       " 'easycap-M10',\n",
       " 'easycap-M43',\n",
       " 'EGI_256',\n",
       " 'GSN-HydroCel-32',\n",
       " 'GSN-HydroCel-64_1.0',\n",
       " 'GSN-HydroCel-65_1.0',\n",
       " 'GSN-HydroCel-128',\n",
       " 'GSN-HydroCel-129',\n",
       " 'GSN-HydroCel-256',\n",
       " 'GSN-HydroCel-257',\n",
       " 'mgh60',\n",
       " 'mgh70',\n",
       " 'artinis-octamon',\n",
       " 'artinis-brite23',\n",
       " 'brainproducts-RNP-BA-128']"
      ]
     },
     "execution_count": 5,
     "metadata": {},
     "output_type": "execute_result"
    }
   ],
   "source": [
    "mne.channels.get_builtin_montages()"
   ]
  },
  {
   "cell_type": "code",
   "execution_count": null,
   "metadata": {},
   "outputs": [],
   "source": [
    "file_list = layout.get(subject='01', \n",
    "           extension='set')\n",
    "derivative_path = Path('/projects/EEG_FMRI/bids_eeg/BIDS/NEW/DERIVATIVES')\n",
    "\n",
    "def is_task_checker(BIDSFile):\n",
    "    return 'checker' in BIDSFile.get_entities()['task']\n",
    "\n",
    "def report(message, filename):\n",
    "    with open(filename, 'a') as f:\n",
    "        f.write(message)\n",
    "        f.write('\\n')\n",
    "\n",
    "def cbin_cleaner(file):\n",
    "    raw = read_raw_eeg(file.path)\n",
    "    if file.get_entities()['task'] == 'checker':\n",
    "        raw = clean_gradient(raw)\n",
    "    raw = clean_bcg(raw)\n",
    "    return raw\n",
    "\n",
    "def asr_cleaner(raw):\n",
    "    asr = asrpy.ASR()\n",
    "    asr.fit(raw)\n",
    "    raw = asr.transform(raw)\n",
    "    return raw\n",
    "\n",
    "def copy_sidecar(file, where_to_copy):\n",
    "    filename_base, filename_extension = os.path.splitext(file.path)\n",
    "    sidecar_filename = filename_base + '.json'\n",
    "    if os.path.isfile(sidecar_filename):\n",
    "        shutil.copyfile(sidecar_filename, where_to_copy)\n",
    "     \n",
    "def make_directory(file, derivative_path):\n",
    "    entities = bids.layout.parse_file_entities(file)\n",
    "    file_path = Path(derivative_path)\n",
    "    file_path.joinpath(entities['subject'],\n",
    "                       entities['session'],\n",
    "                       entities['datatype'])\n",
    "    file_path.mkdir(parents=True, exist_ok=True)\n",
    "    \n",
    "def pyprep_cleaner(raw):\n",
    "    montage = mne.channels.make_standard_montage('easycap-M10')\n",
    "    raw.apply_montage(montage)\n",
    "    prep_params = {\n",
    "        \"ref_chs\": \"eeg\",\n",
    "        \"reref_chs\": \"eeg\",\n",
    "        \"line_freqs\": np.arange(60, raw.info[\"sfreq\"]/ 2, 60),\n",
    "    }\n",
    "    prep = pyprep.PrepPipeline(raw,\n",
    "                               prep_params, \n",
    "                               channel_wise=True)\n",
    "    prep.fit()\n",
    "    raw = prep.transform(raw)\n",
    "    return raw\n",
    "        "
   ]
  },
  {
   "cell_type": "code",
   "execution_count": null,
   "metadata": {},
   "outputs": [],
   "source": [
    "for file in file_list:\n",
    "    if is_task_checker(file):\n",
    "        try:\n",
    "            raw = cbin_cleaner(file)\n",
    "            \n",
    "            \n",
    "            pyprep_cleaner(raw)\n",
    "            asr_cleaner(raw)\n",
    "            report(file.path,\n",
    "                f\"{derivative_path}/processed.txt\")\n",
    "        except Exception as e:\n",
    "            report(f\"{file.path}: {str(e)}\", \n",
    "                f\"{derivative_path}/not_processed.txt\")\n",
    "            continue"
   ]
  },
  {
   "cell_type": "code",
   "execution_count": 3,
   "metadata": {},
   "outputs": [
    {
     "name": "stdout",
     "output_type": "stream",
     "text": [
      "'tuple' object does not support item assignment\n"
     ]
    }
   ],
   "source": [
    "a = (1,2)\n",
    "try:\n",
    "    a[0] = 3\n",
    "except Exception as e:\n",
    "    print(e)"
   ]
  },
  {
   "cell_type": "code",
   "execution_count": null,
   "metadata": {},
   "outputs": [],
   "source": []
  }
 ],
 "metadata": {
  "kernelspec": {
   "display_name": "mne",
   "language": "python",
   "name": "python3"
  },
  "language_info": {
   "codemirror_mode": {
    "name": "ipython",
    "version": 3
   },
   "file_extension": ".py",
   "mimetype": "text/x-python",
   "name": "python",
   "nbconvert_exporter": "python",
   "pygments_lexer": "ipython3",
   "version": "3.12.2"
  }
 },
 "nbformat": 4,
 "nbformat_minor": 2
}
