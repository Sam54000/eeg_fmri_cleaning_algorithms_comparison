{
 "cells": [
  {
   "cell_type": "code",
   "execution_count": 2,
   "metadata": {},
   "outputs": [],
   "source": [
    "import mne\n",
    "import numpy as np\n",
    "import os\n",
    "from pathlib import Path\n",
    "from EEG_quality_assessment.signal_metrics import SignalMetrics\n",
    "import asrpy\n",
    "import pyprep\n",
    "import shutil\n",
    "\n",
    "from eeg_fmri_cleaning.utils import read_raw_eeg\n",
    "from eeg_fmri_cleaning.main import (\n",
    "    clean_gradient,\n",
    "    clean_bcg\n",
    ")\n",
    "import bids\n",
    "from bids.layout import BIDSLayout, BIDSFile"
   ]
  },
  {
   "cell_type": "code",
   "execution_count": 3,
   "metadata": {},
   "outputs": [],
   "source": [
    "f = BIDSFile('projects/EEG_FMRI/bids_eeg/BIDS/NEW/RAW/sub-01/ses-01/eeg/sub-01_ses-01_task-rest_eeg.fif')"
   ]
  },
  {
   "cell_type": "code",
   "execution_count": 8,
   "metadata": {},
   "outputs": [
    {
     "name": "stdout",
     "output_type": "stream",
     "text": [
      "Temporary BIDS dataset created at /var/folders/l3/myr9vj8933q4vwhkbvxcx6gc0000gn/T/tmpem394tqi\n"
     ]
    }
   ],
   "source": [
    "import os\n",
    "import tempfile\n",
    "import json\n",
    "\n"
   ]
  },
  {
   "cell_type": "code",
   "execution_count": 12,
   "metadata": {},
   "outputs": [],
   "source": [
    "from bids import BIDSLayout\n",
    "\n",
    "# Initialize a BIDS Layout with the path of the temp BIDS directory\n",
    "layout = BIDSLayout(temp_bids_path, validate=True)\n",
    "\n",
    "# Example operation: get BIDS entities\n",
    "e = layout.get_entities()"
   ]
  },
  {
   "cell_type": "code",
   "execution_count": 16,
   "metadata": {},
   "outputs": [
    {
     "name": "stdout",
     "output_type": "stream",
     "text": [
      "Temporary BIDS dataset created at /var/folders/l3/myr9vj8933q4vwhkbvxcx6gc0000gn/T/tmpw7753x24\n"
     ]
    }
   ],
   "source": [
    "def create_temp_bids_eeg(n_subjects: int = 1, n_sessions: int = 1, n_runs: int = 1):\n",
    "    \"\"\"\n",
    "    Create a dummy BIDS dataset for EEG data with multiple subjects, sessions, and runs.\n",
    "\n",
    "    Args:\n",
    "        n_subjects (int, optional): Number of subjects to create. Defaults to 1.\n",
    "        n_sessions (int, optional): Number of sessions per subject. Defaults to 1.\n",
    "        n_runs (int, optional): Number of runs per session. Defaults to 1.\n",
    "\n",
    "    Returns:\n",
    "        str: The path of the temporary BIDS dataset.\n",
    "    \"\"\"\n",
    "    # Create a temporary directory for the BIDS dataset\n",
    "    temp_dir = tempfile.mkdtemp()\n",
    "\n",
    "    # Define the necessary BIDS files for dataset description\n",
    "    dataset_description = {\n",
    "        \"Name\": \"THIS IS A DUMMY DATASET\",\n",
    "        \"BIDSVersion\": \"1.4.0\",\n",
    "        \"License\": \"CC0\",\n",
    "        \"Authors\": [\"Jane Doe\", \"John Doe\"]\n",
    "    }\n",
    "\n",
    "    # Write dataset_description.json\n",
    "    with open(os.path.join(temp_dir, \"dataset_description.json\"), 'w') as desc_file:\n",
    "        json.dump(dataset_description, desc_file, indent=4)\n",
    "\n",
    "    # Initialize participants data\n",
    "    participants_data = \"participant_id\\tage\\n\"\n",
    "\n",
    "    # Generate subjects, sessions, and runs\n",
    "    for sub_id in range(1, n_subjects + 1):\n",
    "        subject_label = f\"sub-{sub_id:02d}\"\n",
    "        participants_data += f\"{subject_label}\\t{20 + sub_id}\\n\"  # Just example ages\n",
    "\n",
    "        for ses_id in range(1, n_sessions + 1):\n",
    "            session_label = f\"ses-{ses_id:02d}\"\n",
    "            \n",
    "            for run_id in range(1, n_runs + 1):\n",
    "                run_label = f\"run-{run_id:02d}\"\n",
    "                eeg_dir = os.path.join(temp_dir, subject_label, session_label, \"eeg\")\n",
    "                os.makedirs(eeg_dir, exist_ok=True)  # Create necessary directories\n",
    "\n",
    "                # Define file names for EEG data files\n",
    "                eeg_filenames = [\n",
    "                    f\"{subject_label}_{session_label}_task-test_{run_label}_eeg.vhdr\",\n",
    "                    f\"{subject_label}_{session_label}_task-test_{run_label}_eeg.eeg\",\n",
    "                    f\"{subject_label}_{session_label}_task-test_{run_label}_eeg.vmrk\"\n",
    "                ]\n",
    "\n",
    "                # Create dummy EEG files\n",
    "                for eeg_file in eeg_filenames:\n",
    "                    with open(os.path.join(eeg_dir, eeg_file), 'w') as file:\n",
    "                        file.write(\"Dummy EEG file content\\n\")\n",
    "\n",
    "    # Write participants.tsv\n",
    "    with open(os.path.join(temp_dir, \"participants.tsv\"), 'w') as part_file:\n",
    "        part_file.write(participants_data)\n",
    "\n",
    "    print(f\"Temporary BIDS dataset created at {temp_dir}\")\n",
    "    return temp_dir\n",
    "temp_dir = create_temp_bids_eeg(n_subjects=2, n_sessions=2, n_runs=2)"
   ]
  },
  {
   "cell_type": "code",
   "execution_count": 20,
   "metadata": {},
   "outputs": [
    {
     "data": {
      "text/plain": [
       "'/var/folders/l3/myr9vj8933q4vwhkbvxcx6gc0000gn/T/tmpw7753x24'"
      ]
     },
     "execution_count": 20,
     "metadata": {},
     "output_type": "execute_result"
    }
   ],
   "source": [
    "temp_dir"
   ]
  },
  {
   "cell_type": "code",
   "execution_count": 17,
   "metadata": {},
   "outputs": [],
   "source": [
    "\n",
    "layout = BIDSLayout(temp_dir)"
   ]
  },
  {
   "cell_type": "code",
   "execution_count": 19,
   "metadata": {},
   "outputs": [
    {
     "data": {
      "text/plain": [
       "{'/var/folders/l3/myr9vj8933q4vwhkbvxcx6gc0000gn/T/tmpw7753x24/dataset_description.json': <BIDSJSONFile filename='/var/folders/l3/myr9vj8933q4vwhkbvxcx6gc0000gn/T/tmpw7753x24/dataset_description.json'>,\n",
       " '/var/folders/l3/myr9vj8933q4vwhkbvxcx6gc0000gn/T/tmpw7753x24/participants.tsv': <BIDSDataFile filename='/var/folders/l3/myr9vj8933q4vwhkbvxcx6gc0000gn/T/tmpw7753x24/participants.tsv'>,\n",
       " '/var/folders/l3/myr9vj8933q4vwhkbvxcx6gc0000gn/T/tmpw7753x24/sub-01/ses-02/eeg/sub-01_ses-02_task-test_run-01_eeg.eeg': <BIDSFile filename='/var/folders/l3/myr9vj8933q4vwhkbvxcx6gc0000gn/T/tmpw7753x24/sub-01/ses-02/eeg/sub-01_ses-02_task-test_run-01_eeg.eeg'>,\n",
       " '/var/folders/l3/myr9vj8933q4vwhkbvxcx6gc0000gn/T/tmpw7753x24/sub-01/ses-02/eeg/sub-01_ses-02_task-test_run-02_eeg.eeg': <BIDSFile filename='/var/folders/l3/myr9vj8933q4vwhkbvxcx6gc0000gn/T/tmpw7753x24/sub-01/ses-02/eeg/sub-01_ses-02_task-test_run-02_eeg.eeg'>,\n",
       " '/var/folders/l3/myr9vj8933q4vwhkbvxcx6gc0000gn/T/tmpw7753x24/sub-01/ses-02/eeg/sub-01_ses-02_task-test_run-01_eeg.vmrk': <BIDSFile filename='/var/folders/l3/myr9vj8933q4vwhkbvxcx6gc0000gn/T/tmpw7753x24/sub-01/ses-02/eeg/sub-01_ses-02_task-test_run-01_eeg.vmrk'>,\n",
       " '/var/folders/l3/myr9vj8933q4vwhkbvxcx6gc0000gn/T/tmpw7753x24/sub-01/ses-02/eeg/sub-01_ses-02_task-test_run-01_eeg.vhdr': <BIDSFile filename='/var/folders/l3/myr9vj8933q4vwhkbvxcx6gc0000gn/T/tmpw7753x24/sub-01/ses-02/eeg/sub-01_ses-02_task-test_run-01_eeg.vhdr'>,\n",
       " '/var/folders/l3/myr9vj8933q4vwhkbvxcx6gc0000gn/T/tmpw7753x24/sub-01/ses-02/eeg/sub-01_ses-02_task-test_run-02_eeg.vmrk': <BIDSFile filename='/var/folders/l3/myr9vj8933q4vwhkbvxcx6gc0000gn/T/tmpw7753x24/sub-01/ses-02/eeg/sub-01_ses-02_task-test_run-02_eeg.vmrk'>,\n",
       " '/var/folders/l3/myr9vj8933q4vwhkbvxcx6gc0000gn/T/tmpw7753x24/sub-01/ses-02/eeg/sub-01_ses-02_task-test_run-02_eeg.vhdr': <BIDSFile filename='/var/folders/l3/myr9vj8933q4vwhkbvxcx6gc0000gn/T/tmpw7753x24/sub-01/ses-02/eeg/sub-01_ses-02_task-test_run-02_eeg.vhdr'>,\n",
       " '/var/folders/l3/myr9vj8933q4vwhkbvxcx6gc0000gn/T/tmpw7753x24/sub-01/ses-01/eeg/sub-01_ses-01_task-test_run-02_eeg.vhdr': <BIDSFile filename='/var/folders/l3/myr9vj8933q4vwhkbvxcx6gc0000gn/T/tmpw7753x24/sub-01/ses-01/eeg/sub-01_ses-01_task-test_run-02_eeg.vhdr'>,\n",
       " '/var/folders/l3/myr9vj8933q4vwhkbvxcx6gc0000gn/T/tmpw7753x24/sub-01/ses-01/eeg/sub-01_ses-01_task-test_run-02_eeg.vmrk': <BIDSFile filename='/var/folders/l3/myr9vj8933q4vwhkbvxcx6gc0000gn/T/tmpw7753x24/sub-01/ses-01/eeg/sub-01_ses-01_task-test_run-02_eeg.vmrk'>,\n",
       " '/var/folders/l3/myr9vj8933q4vwhkbvxcx6gc0000gn/T/tmpw7753x24/sub-01/ses-01/eeg/sub-01_ses-01_task-test_run-01_eeg.eeg': <BIDSFile filename='/var/folders/l3/myr9vj8933q4vwhkbvxcx6gc0000gn/T/tmpw7753x24/sub-01/ses-01/eeg/sub-01_ses-01_task-test_run-01_eeg.eeg'>,\n",
       " '/var/folders/l3/myr9vj8933q4vwhkbvxcx6gc0000gn/T/tmpw7753x24/sub-01/ses-01/eeg/sub-01_ses-01_task-test_run-01_eeg.vhdr': <BIDSFile filename='/var/folders/l3/myr9vj8933q4vwhkbvxcx6gc0000gn/T/tmpw7753x24/sub-01/ses-01/eeg/sub-01_ses-01_task-test_run-01_eeg.vhdr'>,\n",
       " '/var/folders/l3/myr9vj8933q4vwhkbvxcx6gc0000gn/T/tmpw7753x24/sub-01/ses-01/eeg/sub-01_ses-01_task-test_run-01_eeg.vmrk': <BIDSFile filename='/var/folders/l3/myr9vj8933q4vwhkbvxcx6gc0000gn/T/tmpw7753x24/sub-01/ses-01/eeg/sub-01_ses-01_task-test_run-01_eeg.vmrk'>,\n",
       " '/var/folders/l3/myr9vj8933q4vwhkbvxcx6gc0000gn/T/tmpw7753x24/sub-01/ses-01/eeg/sub-01_ses-01_task-test_run-02_eeg.eeg': <BIDSFile filename='/var/folders/l3/myr9vj8933q4vwhkbvxcx6gc0000gn/T/tmpw7753x24/sub-01/ses-01/eeg/sub-01_ses-01_task-test_run-02_eeg.eeg'>,\n",
       " '/var/folders/l3/myr9vj8933q4vwhkbvxcx6gc0000gn/T/tmpw7753x24/sub-02/ses-02/eeg/sub-02_ses-02_task-test_run-01_eeg.vmrk': <BIDSFile filename='/var/folders/l3/myr9vj8933q4vwhkbvxcx6gc0000gn/T/tmpw7753x24/sub-02/ses-02/eeg/sub-02_ses-02_task-test_run-01_eeg.vmrk'>,\n",
       " '/var/folders/l3/myr9vj8933q4vwhkbvxcx6gc0000gn/T/tmpw7753x24/sub-02/ses-02/eeg/sub-02_ses-02_task-test_run-01_eeg.vhdr': <BIDSFile filename='/var/folders/l3/myr9vj8933q4vwhkbvxcx6gc0000gn/T/tmpw7753x24/sub-02/ses-02/eeg/sub-02_ses-02_task-test_run-01_eeg.vhdr'>,\n",
       " '/var/folders/l3/myr9vj8933q4vwhkbvxcx6gc0000gn/T/tmpw7753x24/sub-02/ses-02/eeg/sub-02_ses-02_task-test_run-02_eeg.eeg': <BIDSFile filename='/var/folders/l3/myr9vj8933q4vwhkbvxcx6gc0000gn/T/tmpw7753x24/sub-02/ses-02/eeg/sub-02_ses-02_task-test_run-02_eeg.eeg'>,\n",
       " '/var/folders/l3/myr9vj8933q4vwhkbvxcx6gc0000gn/T/tmpw7753x24/sub-02/ses-02/eeg/sub-02_ses-02_task-test_run-01_eeg.eeg': <BIDSFile filename='/var/folders/l3/myr9vj8933q4vwhkbvxcx6gc0000gn/T/tmpw7753x24/sub-02/ses-02/eeg/sub-02_ses-02_task-test_run-01_eeg.eeg'>,\n",
       " '/var/folders/l3/myr9vj8933q4vwhkbvxcx6gc0000gn/T/tmpw7753x24/sub-02/ses-02/eeg/sub-02_ses-02_task-test_run-02_eeg.vmrk': <BIDSFile filename='/var/folders/l3/myr9vj8933q4vwhkbvxcx6gc0000gn/T/tmpw7753x24/sub-02/ses-02/eeg/sub-02_ses-02_task-test_run-02_eeg.vmrk'>,\n",
       " '/var/folders/l3/myr9vj8933q4vwhkbvxcx6gc0000gn/T/tmpw7753x24/sub-02/ses-02/eeg/sub-02_ses-02_task-test_run-02_eeg.vhdr': <BIDSFile filename='/var/folders/l3/myr9vj8933q4vwhkbvxcx6gc0000gn/T/tmpw7753x24/sub-02/ses-02/eeg/sub-02_ses-02_task-test_run-02_eeg.vhdr'>,\n",
       " '/var/folders/l3/myr9vj8933q4vwhkbvxcx6gc0000gn/T/tmpw7753x24/sub-02/ses-01/eeg/sub-02_ses-01_task-test_run-02_eeg.vhdr': <BIDSFile filename='/var/folders/l3/myr9vj8933q4vwhkbvxcx6gc0000gn/T/tmpw7753x24/sub-02/ses-01/eeg/sub-02_ses-01_task-test_run-02_eeg.vhdr'>,\n",
       " '/var/folders/l3/myr9vj8933q4vwhkbvxcx6gc0000gn/T/tmpw7753x24/sub-02/ses-01/eeg/sub-02_ses-01_task-test_run-02_eeg.vmrk': <BIDSFile filename='/var/folders/l3/myr9vj8933q4vwhkbvxcx6gc0000gn/T/tmpw7753x24/sub-02/ses-01/eeg/sub-02_ses-01_task-test_run-02_eeg.vmrk'>,\n",
       " '/var/folders/l3/myr9vj8933q4vwhkbvxcx6gc0000gn/T/tmpw7753x24/sub-02/ses-01/eeg/sub-02_ses-01_task-test_run-02_eeg.eeg': <BIDSFile filename='/var/folders/l3/myr9vj8933q4vwhkbvxcx6gc0000gn/T/tmpw7753x24/sub-02/ses-01/eeg/sub-02_ses-01_task-test_run-02_eeg.eeg'>,\n",
       " '/var/folders/l3/myr9vj8933q4vwhkbvxcx6gc0000gn/T/tmpw7753x24/sub-02/ses-01/eeg/sub-02_ses-01_task-test_run-01_eeg.vhdr': <BIDSFile filename='/var/folders/l3/myr9vj8933q4vwhkbvxcx6gc0000gn/T/tmpw7753x24/sub-02/ses-01/eeg/sub-02_ses-01_task-test_run-01_eeg.vhdr'>,\n",
       " '/var/folders/l3/myr9vj8933q4vwhkbvxcx6gc0000gn/T/tmpw7753x24/sub-02/ses-01/eeg/sub-02_ses-01_task-test_run-01_eeg.vmrk': <BIDSFile filename='/var/folders/l3/myr9vj8933q4vwhkbvxcx6gc0000gn/T/tmpw7753x24/sub-02/ses-01/eeg/sub-02_ses-01_task-test_run-01_eeg.vmrk'>,\n",
       " '/var/folders/l3/myr9vj8933q4vwhkbvxcx6gc0000gn/T/tmpw7753x24/sub-02/ses-01/eeg/sub-02_ses-01_task-test_run-01_eeg.eeg': <BIDSFile filename='/var/folders/l3/myr9vj8933q4vwhkbvxcx6gc0000gn/T/tmpw7753x24/sub-02/ses-01/eeg/sub-02_ses-01_task-test_run-01_eeg.eeg'>}"
      ]
     },
     "execution_count": 19,
     "metadata": {},
     "output_type": "execute_result"
    }
   ],
   "source": [
    "layout.get_files()"
   ]
  },
  {
   "cell_type": "code",
   "execution_count": 22,
   "metadata": {},
   "outputs": [
    {
     "name": "stdout",
     "output_type": "stream",
     "text": [
      "['GRAD']\n"
     ]
    },
    {
     "data": {
      "text/plain": [
       "1"
      ]
     },
     "execution_count": 22,
     "metadata": {},
     "output_type": "execute_result"
    }
   ],
   "source": [
    "a_list = list()\n",
    "a_list.append(\"GRAD\")\n",
    "print(a_list)\n",
    "len(a_list)"
   ]
  },
  {
   "cell_type": "code",
   "execution_count": 8,
   "metadata": {},
   "outputs": [
    {
     "name": "stdout",
     "output_type": "stream",
     "text": [
      "Temporary BIDS dataset created at /var/folders/l3/myr9vj8933q4vwhkbvxcx6gc0000gn/T/tmpuq4l5t08/RAW\n"
     ]
    }
   ],
   "source": [
    "from utils import dummy_bids\n",
    "from bids.layout import BIDSLayout\n",
    "dummy = dummy_bids.DummyDataset(n_runs = 2)\n",
    "dummy.create_eeg_dataset()\n",
    "layout = BIDSLayout(dummy.bids_path)\n",
    "files = layout.get(extension='.vhdr')\n",
    "#dummy.flush(check=False)"
   ]
  },
  {
   "cell_type": "code",
   "execution_count": 13,
   "metadata": {},
   "outputs": [
    {
     "ename": "ValueError",
     "evalue": "src must be a string or instance of SourceSpaces, got None (type <class 'NoneType'>)",
     "output_type": "error",
     "traceback": [
      "\u001b[0;31m---------------------------------------------------------------------------\u001b[0m",
      "\u001b[0;31mValueError\u001b[0m                                Traceback (most recent call last)",
      "Cell \u001b[0;32mIn[13], line 3\u001b[0m\n\u001b[1;32m      1\u001b[0m \u001b[38;5;28;01mimport\u001b[39;00m \u001b[38;5;21;01mmne\u001b[39;00m\n\u001b[1;32m      2\u001b[0m info \u001b[38;5;241m=\u001b[39m mne\u001b[38;5;241m.\u001b[39mcreate_info(\u001b[38;5;241m32\u001b[39m, \u001b[38;5;241m1000\u001b[39m)\n\u001b[0;32m----> 3\u001b[0m raw \u001b[38;5;241m=\u001b[39m \u001b[43mmne\u001b[49m\u001b[38;5;241;43m.\u001b[39;49m\u001b[43msimulation\u001b[49m\u001b[38;5;241;43m.\u001b[39;49m\u001b[43msimulate_raw\u001b[49m\u001b[43m(\u001b[49m\u001b[43minfo\u001b[49m\u001b[43m)\u001b[49m\n\u001b[1;32m      4\u001b[0m raw\u001b[38;5;241m.\u001b[39mplot()\n",
      "File \u001b[0;32m<decorator-gen-374>:12\u001b[0m, in \u001b[0;36msimulate_raw\u001b[0;34m(info, stc, trans, src, bem, head_pos, mindist, interp, n_jobs, use_cps, forward, first_samp, max_iter, verbose)\u001b[0m\n",
      "File \u001b[0;32m/opt/anaconda3/envs/mne/lib/python3.12/site-packages/mne/simulation/raw.py:309\u001b[0m, in \u001b[0;36msimulate_raw\u001b[0;34m(info, stc, trans, src, bem, head_pos, mindist, interp, n_jobs, use_cps, forward, first_samp, max_iter, verbose)\u001b[0m\n\u001b[1;32m    305\u001b[0m     src \u001b[38;5;241m=\u001b[39m forward[\u001b[38;5;124m\"\u001b[39m\u001b[38;5;124msrc\u001b[39m\u001b[38;5;124m\"\u001b[39m]\n\u001b[1;32m    307\u001b[0m dev_head_ts, offsets \u001b[38;5;241m=\u001b[39m _check_head_pos(head_pos, info, first_samp, \u001b[38;5;28;01mNone\u001b[39;00m)\n\u001b[0;32m--> 309\u001b[0m src \u001b[38;5;241m=\u001b[39m \u001b[43m_ensure_src\u001b[49m\u001b[43m(\u001b[49m\u001b[43msrc\u001b[49m\u001b[43m,\u001b[49m\u001b[43m \u001b[49m\u001b[43mverbose\u001b[49m\u001b[38;5;241;43m=\u001b[39;49m\u001b[38;5;28;43;01mFalse\u001b[39;49;00m\u001b[43m)\u001b[49m\n\u001b[1;32m    310\u001b[0m \u001b[38;5;28;01mif\u001b[39;00m \u001b[38;5;28misinstance\u001b[39m(bem, \u001b[38;5;28mstr\u001b[39m):\n\u001b[1;32m    311\u001b[0m     bem \u001b[38;5;241m=\u001b[39m read_bem_solution(bem, verbose\u001b[38;5;241m=\u001b[39m\u001b[38;5;28;01mFalse\u001b[39;00m)\n",
      "File \u001b[0;32m<decorator-gen-244>:10\u001b[0m, in \u001b[0;36m_ensure_src\u001b[0;34m(src, kind, extra, verbose)\u001b[0m\n",
      "File \u001b[0;32m/opt/anaconda3/envs/mne/lib/python3.12/site-packages/mne/source_space/_source_space.py:2643\u001b[0m, in \u001b[0;36m_ensure_src\u001b[0;34m(src, kind, extra, verbose)\u001b[0m\n\u001b[1;32m   2641\u001b[0m     src \u001b[38;5;241m=\u001b[39m read_source_spaces(src, verbose\u001b[38;5;241m=\u001b[39m\u001b[38;5;28;01mFalse\u001b[39;00m)\n\u001b[1;32m   2642\u001b[0m \u001b[38;5;28;01mif\u001b[39;00m \u001b[38;5;129;01mnot\u001b[39;00m \u001b[38;5;28misinstance\u001b[39m(src, SourceSpaces):\n\u001b[0;32m-> 2643\u001b[0m     \u001b[38;5;28;01mraise\u001b[39;00m \u001b[38;5;167;01mValueError\u001b[39;00m(\u001b[38;5;124m\"\u001b[39m\u001b[38;5;132;01m%s\u001b[39;00m\u001b[38;5;124m, got \u001b[39m\u001b[38;5;132;01m%s\u001b[39;00m\u001b[38;5;124m (type \u001b[39m\u001b[38;5;132;01m%s\u001b[39;00m\u001b[38;5;124m)\u001b[39m\u001b[38;5;124m\"\u001b[39m \u001b[38;5;241m%\u001b[39m (msg, src, \u001b[38;5;28mtype\u001b[39m(src)))\n\u001b[1;32m   2644\u001b[0m \u001b[38;5;28;01mif\u001b[39;00m kind \u001b[38;5;129;01mis\u001b[39;00m \u001b[38;5;129;01mnot\u001b[39;00m \u001b[38;5;28;01mNone\u001b[39;00m:\n\u001b[1;32m   2645\u001b[0m     \u001b[38;5;28;01mif\u001b[39;00m src\u001b[38;5;241m.\u001b[39mkind \u001b[38;5;241m!=\u001b[39m kind \u001b[38;5;129;01mand\u001b[39;00m src\u001b[38;5;241m.\u001b[39mkind \u001b[38;5;241m==\u001b[39m \u001b[38;5;124m\"\u001b[39m\u001b[38;5;124mmixed\u001b[39m\u001b[38;5;124m\"\u001b[39m:\n",
      "\u001b[0;31mValueError\u001b[0m: src must be a string or instance of SourceSpaces, got None (type <class 'NoneType'>)"
     ]
    }
   ],
   "source": [
    "import mne\n",
    "info = mne.create_info(32, 1000)\n",
    "raw = mne.simulation.simulate_raw(info)\n",
    "raw.plot()"
   ]
  },
  {
   "cell_type": "code",
   "execution_count": 7,
   "metadata": {},
   "outputs": [
    {
     "name": "stdout",
     "output_type": "stream",
     "text": [
      "Removing the temporary directory...\n",
      "Content being removed:\n",
      "/var/folders/l3/myr9vj8933q4vwhkbvxcx6gc0000gn/T/tmp8tvysj1_/\n",
      "└── RAW/\n",
      "    ├── sub-01/\n",
      "    │   └── ses-01/\n",
      "    │       └── eeg/\n",
      "    │           ├── sub-01_ses-01_task-test_run-01_eeg.eeg\n",
      "    │           ├── sub-01_ses-01_task-test_run-01_eeg.json\n",
      "    │           ├── sub-01_ses-01_task-test_run-01_eeg.vhdr\n",
      "    │           ├── sub-01_ses-01_task-test_run-01_eeg.vmrk\n",
      "    │           ├── sub-01_ses-01_task-test_run-02_eeg.eeg\n",
      "    │           ├── sub-01_ses-01_task-test_run-02_eeg.json\n",
      "    │           ├── sub-01_ses-01_task-test_run-02_eeg.vhdr\n",
      "    │           └── sub-01_ses-01_task-test_run-02_eeg.vmrk\n",
      "    ├── dataset_description.json\n",
      "    └── participants.tsv\n",
      "The tree was successfully removed.\n"
     ]
    },
    {
     "data": {
      "text/plain": [
       "<utils.dummy_bids.DummyDataset at 0x107d58e30>"
      ]
     },
     "execution_count": 7,
     "metadata": {},
     "output_type": "execute_result"
    }
   ],
   "source": [
    "dummy.flush(check=False)"
   ]
  },
  {
   "cell_type": "code",
   "execution_count": 4,
   "metadata": {},
   "outputs": [],
   "source": [
    "import utils.simulated_data as sim"
   ]
  },
  {
   "cell_type": "code",
   "execution_count": 6,
   "metadata": {},
   "outputs": [
    {
     "ename": "TypeError",
     "evalue": "DirectoryTree.__init__() missing 1 required positional argument: 'root_dir'",
     "output_type": "error",
     "traceback": [
      "\u001b[0;31m---------------------------------------------------------------------------\u001b[0m",
      "\u001b[0;31mTypeError\u001b[0m                                 Traceback (most recent call last)",
      "Cell \u001b[0;32mIn[6], line 1\u001b[0m\n\u001b[0;32m----> 1\u001b[0m \u001b[43msim\u001b[49m\u001b[38;5;241;43m.\u001b[39;49m\u001b[43mDirectoryTree\u001b[49m\u001b[43m(\u001b[49m\u001b[43m)\u001b[49m\n",
      "\u001b[0;31mTypeError\u001b[0m: DirectoryTree.__init__() missing 1 required positional argument: 'root_dir'"
     ]
    }
   ],
   "source": [
    "sim.DirectoryTree()"
   ]
  },
  {
   "cell_type": "code",
   "execution_count": 38,
   "metadata": {},
   "outputs": [],
   "source": [
    "l = list(layout.get_files())"
   ]
  },
  {
   "cell_type": "code",
   "execution_count": 1,
   "metadata": {},
   "outputs": [
    {
     "name": "stdout",
     "output_type": "stream",
     "text": [
      "a\n",
      "b\n"
     ]
    }
   ],
   "source": [
    "a = {'a':1, 'b':2}\n",
    "for i in a:\n",
    "    print(i)"
   ]
  },
  {
   "cell_type": "code",
   "execution_count": 30,
   "metadata": {},
   "outputs": [
    {
     "data": {
      "text/plain": [
       "('/projects/EEG_FMRI/bids_eeg/BIDS/NEW/RAW/sub-01/ses-01/eeg/sub-01_ses-01_task-rest_eeg',\n",
       " '.fif')"
      ]
     },
     "execution_count": 30,
     "metadata": {},
     "output_type": "execute_result"
    }
   ],
   "source": [
    "from pathlib import Path\n",
    "import os\n",
    "filename = Path('/projects/EEG_FMRI/bids_eeg/BIDS/NEW/RAW/sub-01/ses-01/eeg/sub-01_ses-01_task-rest_eeg.fif')\n",
    "os.path.splitext(filename)"
   ]
  },
  {
   "cell_type": "code",
   "execution_count": 19,
   "metadata": {},
   "outputs": [],
   "source": [
    "import bids\n",
    "filename = 'sub-01_ses-01_task-rest_eeg.fif'\n",
    "file = bids.utils.make_bidsfile('sub-01_ses-01_task-rest_eeg.fif')"
   ]
  },
  {
   "cell_type": "code",
   "execution_count": 15,
   "metadata": {},
   "outputs": [
    {
     "data": {
      "text/plain": [
       "{'session': '01', 'task': 'rest', 'suffix': 'eeg', 'extension': \".fif'>\"}"
      ]
     },
     "execution_count": 15,
     "metadata": {},
     "output_type": "execute_result"
    }
   ],
   "source": [
    "bids.layout.parse_file_entities(file)"
   ]
  },
  {
   "cell_type": "code",
   "execution_count": 21,
   "metadata": {},
   "outputs": [],
   "source": [
    "test = bids.layout.BIDSFile(filename)"
   ]
  },
  {
   "cell_type": "code",
   "execution_count": 10,
   "metadata": {},
   "outputs": [
    {
     "name": "stdout",
     "output_type": "stream",
     "text": [
      "Creating RawArray with float64 data, n_channels=32, n_times=1000\n",
      "    Range : 0 ... 999 =      0.000 ...     0.999 secs\n",
      "Ready.\n"
     ]
    }
   ],
   "source": [
    "import mne\n",
    "import numpy as np\n",
    "base_filename = 'sub-01_ses-01_task-rest_eeg.set'\n",
    "random_data = np.random.rand(32, 1000)\n",
    "ch_names = [f'EEG {i}' for i in range(32)]\n",
    "info = mne.create_info(ch_names, 1000)\n",
    "raw = mne.io.RawArray(random_data, info)\n",
    "mne.export.export_raw(base_filename, raw, fmt='eeglab', overwrite=True)"
   ]
  },
  {
   "cell_type": "code",
   "execution_count": 4,
   "metadata": {},
   "outputs": [
    {
     "name": "stderr",
     "output_type": "stream",
     "text": [
      "/opt/anaconda3/envs/mne/lib/python3.12/site-packages/pybv/io.py:681: UserWarning: Encountered unsupported voltage units: mV\n",
      "We will scale the data appropriately, but for maximum compatibility you should use µV for all channels.\n",
      "  warn(msg)\n",
      "/opt/anaconda3/envs/mne/lib/python3.12/site-packages/pybv/io.py:690: UserWarning: Encountered unsupported non-voltage units: °C\n",
      "Note that the BrainVision format specification supports only µV.\n",
      "  warn(msg)\n"
     ]
    }
   ],
   "source": [
    "import pybv\n",
    "data = np.random.random((3, 5))\n",
    "# write data with varying units\n",
    "# Note channels A1 and A2 are expected to be in volt and will get\n",
    "# rescaled to µV and mV respectively.\n",
    "# TEMP is expected to be in some other unit (i.e., NOT volt), and\n",
    "# will not get scaled (it is written \"as is\")\n",
    "pybv.write_brainvision(data=data, sfreq=1, ch_names=[\"A1\", \"A2\", \"TEMP\"],\n",
    "                       folder_out=\"./\",\n",
    "                  fname_base=\"pybv_test_file\",\n",
    "                  unit=[\"µV\", \"mV\", \"°C\"])"
   ]
  },
  {
   "cell_type": "code",
   "execution_count": 11,
   "metadata": {},
   "outputs": [
    {
     "ename": "TypeError",
     "evalue": "list indices must be integers or slices, not list",
     "output_type": "error",
     "traceback": [
      "\u001b[0;31m---------------------------------------------------------------------------\u001b[0m",
      "\u001b[0;31mTypeError\u001b[0m                                 Traceback (most recent call last)",
      "Cell \u001b[0;32mIn[11], line 3\u001b[0m\n\u001b[1;32m      1\u001b[0m a \u001b[38;5;241m=\u001b[39m [\u001b[38;5;124m'\u001b[39m\u001b[38;5;124ma\u001b[39m\u001b[38;5;124m'\u001b[39m,\u001b[38;5;124m'\u001b[39m\u001b[38;5;124mb\u001b[39m\u001b[38;5;124m'\u001b[39m,\u001b[38;5;124m'\u001b[39m\u001b[38;5;124mc\u001b[39m\u001b[38;5;124m'\u001b[39m]\n\u001b[1;32m      2\u001b[0m b \u001b[38;5;241m=\u001b[39m [\u001b[38;5;28;01mFalse\u001b[39;00m, \u001b[38;5;28;01mTrue\u001b[39;00m, \u001b[38;5;28;01mFalse\u001b[39;00m]\n\u001b[0;32m----> 3\u001b[0m \u001b[38;5;28mprint\u001b[39m(\u001b[43ma\u001b[49m\u001b[43m[\u001b[49m\u001b[43mb\u001b[49m\u001b[43m]\u001b[49m)\n",
      "\u001b[0;31mTypeError\u001b[0m: list indices must be integers or slices, not list"
     ]
    }
   ],
   "source": [
    "a = ['a','b','c']\n",
    "b = [False, True, False]\n",
    "print(a[b])"
   ]
  },
  {
   "cell_type": "code",
   "execution_count": 25,
   "metadata": {},
   "outputs": [
    {
     "data": {
      "text/plain": [
       "True"
      ]
     },
     "execution_count": 25,
     "metadata": {},
     "output_type": "execute_result"
    }
   ],
   "source": [
    "os.path.isfile(filename_base + '.json')"
   ]
  },
  {
   "cell_type": "code",
   "execution_count": 5,
   "metadata": {},
   "outputs": [
    {
     "data": {
      "text/plain": [
       "['standard_1005',\n",
       " 'standard_1020',\n",
       " 'standard_alphabetic',\n",
       " 'standard_postfixed',\n",
       " 'standard_prefixed',\n",
       " 'standard_primed',\n",
       " 'biosemi16',\n",
       " 'biosemi32',\n",
       " 'biosemi64',\n",
       " 'biosemi128',\n",
       " 'biosemi160',\n",
       " 'biosemi256',\n",
       " 'easycap-M1',\n",
       " 'easycap-M10',\n",
       " 'easycap-M43',\n",
       " 'EGI_256',\n",
       " 'GSN-HydroCel-32',\n",
       " 'GSN-HydroCel-64_1.0',\n",
       " 'GSN-HydroCel-65_1.0',\n",
       " 'GSN-HydroCel-128',\n",
       " 'GSN-HydroCel-129',\n",
       " 'GSN-HydroCel-256',\n",
       " 'GSN-HydroCel-257',\n",
       " 'mgh60',\n",
       " 'mgh70',\n",
       " 'artinis-octamon',\n",
       " 'artinis-brite23',\n",
       " 'brainproducts-RNP-BA-128']"
      ]
     },
     "execution_count": 5,
     "metadata": {},
     "output_type": "execute_result"
    }
   ],
   "source": [
    "mne.channels.get_builtin_montages()"
   ]
  },
  {
   "cell_type": "code",
   "execution_count": null,
   "metadata": {},
   "outputs": [],
   "source": [
    "file_list = layout.get(subject='01', \n",
    "           extension='set')\n",
    "derivative_path = Path('/projects/EEG_FMRI/bids_eeg/BIDS/NEW/DERIVATIVES')\n",
    "\n",
    "def is_task_checker(BIDSFile):\n",
    "    return 'checker' in BIDSFile.get_entities()['task']\n",
    "\n",
    "def report(message, filename):\n",
    "    with open(filename, 'a') as f:\n",
    "        f.write(message)\n",
    "        f.write('\\n')\n",
    "\n",
    "def cbin_cleaner(file):\n",
    "    raw = read_raw_eeg(file.path)\n",
    "    if file.get_entities()['task'] == 'checker':\n",
    "        raw = clean_gradient(raw)\n",
    "    raw = clean_bcg(raw)\n",
    "    return raw\n",
    "\n",
    "def asr_cleaner(raw):\n",
    "    asr = asrpy.ASR()\n",
    "    asr.fit(raw)\n",
    "    raw = asr.transform(raw)\n",
    "    return raw\n",
    "\n",
    "def copy_sidecar(file, where_to_copy):\n",
    "    filename_base, filename_extension = os.path.splitext(file.path)\n",
    "    sidecar_filename = filename_base + '.json'\n",
    "    if os.path.isfile(sidecar_filename):\n",
    "        shutil.copyfile(sidecar_filename, where_to_copy)\n",
    "     \n",
    "def make_directory(file, derivative_path):\n",
    "    entities = bids.layout.parse_file_entities(file)\n",
    "    file_path = Path(derivative_path)\n",
    "    file_path.joinpath(entities['subject'],\n",
    "                       entities['session'],\n",
    "                       entities['datatype'])\n",
    "    file_path.mkdir(parents=True, exist_ok=True)\n",
    "    \n",
    "def pyprep_cleaner(raw):\n",
    "    montage = mne.channels.make_standard_montage('easycap-M10')\n",
    "    raw.apply_montage(montage)\n",
    "    prep_params = {\n",
    "        \"ref_chs\": \"eeg\",\n",
    "        \"reref_chs\": \"eeg\",\n",
    "        \"line_freqs\": np.arange(60, raw.info[\"sfreq\"]/ 2, 60),\n",
    "    }\n",
    "    prep = pyprep.PrepPipeline(raw,\n",
    "                               prep_params, \n",
    "                               channel_wise=True)\n",
    "    prep.fit()\n",
    "    raw = prep.transform(raw)\n",
    "    return raw\n",
    "        "
   ]
  },
  {
   "cell_type": "code",
   "execution_count": null,
   "metadata": {},
   "outputs": [],
   "source": [
    "for file in file_list:\n",
    "    if is_task_checker(file):\n",
    "        try:\n",
    "            raw = cbin_cleaner(file)\n",
    "            \n",
    "            \n",
    "            pyprep_cleaner(raw)\n",
    "            asr_cleaner(raw)\n",
    "            report(file.path,\n",
    "                f\"{derivative_path}/processed.txt\")\n",
    "        except Exception as e:\n",
    "            report(f\"{file.path}: {str(e)}\", \n",
    "                f\"{derivative_path}/not_processed.txt\")\n",
    "            continue"
   ]
  },
  {
   "cell_type": "code",
   "execution_count": 3,
   "metadata": {},
   "outputs": [
    {
     "name": "stdout",
     "output_type": "stream",
     "text": [
      "'tuple' object does not support item assignment\n"
     ]
    }
   ],
   "source": [
    "a = (1,2)\n",
    "try:\n",
    "    a[0] = 3\n",
    "except Exception as e:\n",
    "    print(e)"
   ]
  },
  {
   "cell_type": "code",
   "execution_count": null,
   "metadata": {},
   "outputs": [],
   "source": []
  }
 ],
 "metadata": {
  "kernelspec": {
   "display_name": "mne",
   "language": "python",
   "name": "python3"
  },
  "language_info": {
   "codemirror_mode": {
    "name": "ipython",
    "version": 3
   },
   "file_extension": ".py",
   "mimetype": "text/x-python",
   "name": "python",
   "nbconvert_exporter": "python",
   "pygments_lexer": "ipython3",
   "version": "3.12.2"
  }
 },
 "nbformat": 4,
 "nbformat_minor": 2
}
